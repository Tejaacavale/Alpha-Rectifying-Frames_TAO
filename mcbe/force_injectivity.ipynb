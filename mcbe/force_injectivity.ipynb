{
 "cells": [
  {
   "cell_type": "code",
   "execution_count": 330,
   "metadata": {},
   "outputs": [
    {
     "name": "stdout",
     "output_type": "stream",
     "text": [
      "The autoreload extension is already loaded. To reload it, use:\n",
      "  %reload_ext autoreload\n"
     ]
    }
   ],
   "source": [
    "%load_ext autoreload\n",
    "%autoreload 2\n",
    "\n",
    "import numpy as np\n",
    "import pandas as pd\n",
    "import matplotlib.pyplot as plt\n",
    "\n",
    "import torch\n",
    "import torch.nn.functional as F\n",
    "import torch.nn as nn\n",
    "from torch.autograd import Variable\n",
    "\n",
    "import tqdm\n",
    "import os\n",
    "import mcbe\n",
    "from mpl_toolkits.mplot3d import Axes3D\n",
    "\n",
    "from sklearn.datasets import load_iris\n",
    "from sklearn.model_selection import train_test_split\n",
    "from sklearn.preprocessing import StandardScaler\n"
   ]
  },
  {
   "cell_type": "code",
   "execution_count": 331,
   "metadata": {},
   "outputs": [],
   "source": [
    "# size of the first layer\n",
    "l1 = 30\n",
    "#number of epochs \n",
    "EPOCHS  = 75"
   ]
  },
  {
   "cell_type": "code",
   "execution_count": 332,
   "metadata": {},
   "outputs": [],
   "source": [
    "\n",
    "iris = load_iris()\n",
    "X = iris['data']\n",
    "y = iris['target']\n",
    "names = iris['target_names']\n",
    "feature_names = iris['feature_names']\n",
    "\n",
    "X_3 = X[:,[0,2,3]]\n",
    "\n",
    "# Scale data to have mean 0 and variance 1 \n",
    "# which is importance for convergence of the neural network\n",
    "scaler = StandardScaler()\n",
    "X_scaled = scaler.fit_transform(X_3)\n",
    "#m = np.amax(X_scaled)\n",
    "#X_ball = X_scaled/m\n",
    "\n",
    "# Split the data set into training and testing\n",
    "X_train, X_test, y_train, y_test = train_test_split(\n",
    "    X_scaled, y, test_size=0.2, random_state=2)"
   ]
  },
  {
   "cell_type": "code",
   "execution_count": 333,
   "metadata": {},
   "outputs": [],
   "source": [
    "class Model(nn.Module):\n",
    "    def __init__(self, input_dim, l1):\n",
    "        super(Model, self).__init__()\n",
    "        self.layer1 = nn.Linear(input_dim, l1)\n",
    "        #self.layer2 = nn.Linear(20, 10)\n",
    "        self.layer3 = nn.Linear(l1, 3)\n",
    "        \n",
    "    def forward(self, x):\n",
    "        x = F.relu(self.layer1(x))\n",
    "        #x = F.relu(self.layer2(x))\n",
    "        x = F.softmax(self.layer3(x), dim=1)\n",
    "        return x"
   ]
  },
  {
   "cell_type": "markdown",
   "metadata": {},
   "source": [
    "### with injectivity"
   ]
  },
  {
   "cell_type": "code",
   "execution_count": 334,
   "metadata": {},
   "outputs": [
    {
     "data": {
      "text/plain": [
       "Model(\n",
       "  (layer1): Linear(in_features=3, out_features=30, bias=True)\n",
       "  (layer3): Linear(in_features=30, out_features=3, bias=True)\n",
       ")"
      ]
     },
     "execution_count": 334,
     "metadata": {},
     "output_type": "execute_result"
    }
   ],
   "source": [
    "model_inj     = Model(X_train.shape[1],l1)\n",
    "optimizer = torch.optim.Adam(model_inj.parameters(), lr=0.01)\n",
    "loss_fn   = nn.CrossEntropyLoss()\n",
    "model_inj"
   ]
  },
  {
   "cell_type": "code",
   "execution_count": 335,
   "metadata": {},
   "outputs": [
    {
     "name": "stderr",
     "output_type": "stream",
     "text": [
      "  8%|▊         | 6/75 [00:00<00:01, 54.69it/s]"
     ]
    },
    {
     "name": "stdout",
     "output_type": "stream",
     "text": [
      "injectivity violated\n",
      "injectivity violated\n",
      "injectivity violated\n",
      "injectivity violated\n",
      "injectivity violated\n",
      "injectivity violated\n",
      "injectivity violated\n",
      "injectivity violated\n",
      "injectivity violated\n",
      "injectivity violated\n",
      "injectivity violated\n"
     ]
    },
    {
     "name": "stderr",
     "output_type": "stream",
     "text": [
      " 24%|██▍       | 18/75 [00:00<00:01, 54.85it/s]"
     ]
    },
    {
     "name": "stdout",
     "output_type": "stream",
     "text": [
      "injectivity violated\n",
      "injectivity violated\n",
      "injectivity violated\n",
      "injectivity violated\n",
      "injectivity violated\n",
      "injectivity violated\n",
      "injectivity violated\n",
      "injectivity violated\n",
      "injectivity violated\n",
      "injectivity violated\n",
      "injectivity violated\n",
      "injectivity violated\n"
     ]
    },
    {
     "name": "stderr",
     "output_type": "stream",
     "text": [
      " 40%|████      | 30/75 [00:00<00:00, 54.63it/s]"
     ]
    },
    {
     "name": "stdout",
     "output_type": "stream",
     "text": [
      "injectivity violated\n",
      "injectivity violated\n",
      "injectivity violated\n",
      "injectivity violated\n",
      "injectivity violated\n",
      "injectivity violated\n",
      "injectivity violated\n",
      "injectivity violated\n",
      "injectivity violated\n",
      "injectivity violated\n",
      "injectivity violated\n",
      "injectivity violated\n"
     ]
    },
    {
     "name": "stderr",
     "output_type": "stream",
     "text": [
      " 56%|█████▌    | 42/75 [00:00<00:00, 53.63it/s]"
     ]
    },
    {
     "name": "stdout",
     "output_type": "stream",
     "text": [
      "injectivity violated\n",
      "injectivity violated\n",
      "injectivity violated\n",
      "injectivity violated\n",
      "injectivity violated\n",
      "injectivity violated\n",
      "injectivity violated\n",
      "injectivity violated\n",
      "injectivity violated\n",
      "injectivity violated\n",
      "injectivity violated\n",
      "injectivity violated\n"
     ]
    },
    {
     "name": "stderr",
     "output_type": "stream",
     "text": [
      " 72%|███████▏  | 54/75 [00:01<00:00, 53.36it/s]"
     ]
    },
    {
     "name": "stdout",
     "output_type": "stream",
     "text": [
      "injectivity violated\n",
      "injectivity violated\n",
      "injectivity violated\n",
      "injectivity violated\n",
      "injectivity violated\n",
      "injectivity violated\n",
      "injectivity violated\n",
      "injectivity violated\n",
      "injectivity violated\n",
      "injectivity violated\n",
      "injectivity violated\n",
      "injectivity violated\n"
     ]
    },
    {
     "name": "stderr",
     "output_type": "stream",
     "text": [
      " 88%|████████▊ | 66/75 [00:01<00:00, 53.94it/s]"
     ]
    },
    {
     "name": "stdout",
     "output_type": "stream",
     "text": [
      "injectivity violated\n",
      "injectivity violated\n",
      "injectivity violated\n",
      "injectivity violated\n",
      "injectivity violated\n",
      "injectivity violated\n",
      "injectivity violated\n",
      "injectivity violated\n",
      "injectivity violated\n",
      "injectivity violated\n",
      "injectivity violated\n"
     ]
    },
    {
     "name": "stderr",
     "output_type": "stream",
     "text": [
      "100%|██████████| 75/75 [00:01<00:00, 53.64it/s]"
     ]
    },
    {
     "name": "stdout",
     "output_type": "stream",
     "text": [
      "injectivity violated\n",
      "injectivity violated\n",
      "injectivity violated\n",
      "injectivity violated\n",
      "injectivity violated\n"
     ]
    },
    {
     "name": "stderr",
     "output_type": "stream",
     "text": [
      "\n"
     ]
    },
    {
     "data": {
      "text/plain": [
       "array([0.46666667, 0.56666666, 0.69999999, 0.73333335, 0.73333335,\n",
       "       0.73333335, 0.73333335, 0.73333335, 0.73333335, 0.73333335,\n",
       "       0.73333335, 0.73333335, 0.73333335, 0.73333335, 0.73333335,\n",
       "       0.73333335, 0.73333335, 0.73333335, 0.73333335, 0.73333335,\n",
       "       0.76666665, 0.76666665, 0.80000001, 0.83333331, 0.83333331,\n",
       "       0.83333331, 0.83333331, 0.83333331, 0.83333331, 0.89999998,\n",
       "       0.89999998, 0.89999998, 0.93333334, 0.93333334, 0.93333334,\n",
       "       0.96666664, 0.96666664, 0.96666664, 0.96666664, 0.96666664,\n",
       "       0.96666664, 0.96666664, 0.96666664, 0.96666664, 0.96666664,\n",
       "       0.96666664, 0.96666664, 0.96666664, 0.96666664, 0.96666664,\n",
       "       0.96666664, 0.96666664, 0.96666664, 0.96666664, 0.96666664,\n",
       "       0.96666664, 0.96666664, 0.96666664, 0.96666664, 0.96666664,\n",
       "       0.96666664, 0.96666664, 0.96666664, 0.96666664, 0.96666664,\n",
       "       0.96666664, 0.96666664, 0.96666664, 0.96666664, 0.96666664,\n",
       "       0.96666664, 0.96666664, 0.96666664, 0.96666664, 0.96666664])"
      ]
     },
     "execution_count": 335,
     "metadata": {},
     "output_type": "execute_result"
    }
   ],
   "source": [
    "# with injectivity\n",
    "#initialize lists\n",
    "\n",
    "\n",
    "\n",
    "weights = []\n",
    "weights_norm = []\n",
    "norms = []\n",
    "biases = np.zeros([EPOCHS + 1,l1])\n",
    "\n",
    "w1 = model_inj.layer1.weight\n",
    "b1 = model_inj.layer1.bias\n",
    "m1 = w1.shape[0]\n",
    "n1 = w1.shape[1]\n",
    "norm = w1.pow(2).sum(keepdim=True,dim=1).sqrt()\n",
    "w1_norm = torch.div(w1,norm)\n",
    "w1_norm[w1_norm == np.inf] = 0\n",
    "\n",
    "    \n",
    "weights.append(w1.detach().numpy())\n",
    "weights_norm.append(w1_norm.detach().numpy())\n",
    "norms.append(norm.detach().numpy())\n",
    "biases[0,:] = b1.detach().numpy()\n",
    "\n",
    "#epoch counter\n",
    "k = 1\n",
    "\n",
    "X_train = Variable(torch.from_numpy(X_train)).float()\n",
    "y_train = Variable(torch.from_numpy(y_train)).long()\n",
    "X_test  = Variable(torch.from_numpy(X_test)).float()\n",
    "y_test  = Variable(torch.from_numpy(y_test)).long()\n",
    "\n",
    "loss_list_inj     = np.zeros((EPOCHS,))\n",
    "accuracy_list_inj = np.zeros((EPOCHS,))\n",
    "\n",
    "for epoch in tqdm.trange(EPOCHS):\n",
    "    y_pred = model_inj(X_train)\n",
    "    loss = loss_fn(y_pred, y_train)\n",
    "    loss_list_inj[epoch] = loss.item()\n",
    "    \n",
    "    # Zero gradients\n",
    "    optimizer.zero_grad()\n",
    "    loss.backward()\n",
    "    optimizer.step()\n",
    "    \n",
    "    with torch.no_grad():\n",
    "        y_pred = model_inj(X_test)\n",
    "        correct = (torch.argmax(y_pred, dim=1) == y_test).type(torch.FloatTensor)\n",
    "        accuracy_list_inj[epoch] = correct.mean()\n",
    "    \n",
    "    \n",
    "    \n",
    "    w1 = model_inj.layer1.weight\n",
    "    b1 = model_inj.layer1.bias\n",
    "    norm = w1.pow(2).sum(keepdim=True,dim=1).sqrt()\n",
    "    w1_norm = torch.div(w1,norm)\n",
    "    w1_norm[w1_norm == np.inf] = 0\n",
    "    \n",
    "    \n",
    "    weights.append(w1.detach().numpy())\n",
    "    weights_norm.append(w1_norm.detach().numpy())\n",
    "    norms.append(norm.detach().numpy())\n",
    "    biases[k,:] = b1.detach().numpy()\n",
    "\n",
    "    #make injectivity\n",
    "    est_alpha, subframes, est_points =mcbe.mcbe(polytope=np.array(weights)[-1],N=X_train.shape[0],distribution=\"ball\",radius = np.max(np.array(X_train)), give_subframes=True,sample_on_sphere=False)\n",
    "\n",
    "    #plot if mcbe is used\n",
    "    if np.sum(biases[k,:] > est_alpha) > 0:\n",
    "        print(\"injectivity violated\")\n",
    "    \n",
    "    #force injectivity\n",
    "    biases[k,:] = np.min([biases[k,:], est_alpha], axis = 0)\n",
    "\n",
    "\n",
    "\n",
    "\n",
    "    \n",
    "    k = k+1\n",
    "    \n",
    "\n",
    "accuracy_list_inj"
   ]
  },
  {
   "cell_type": "markdown",
   "metadata": {},
   "source": [
    "### without injectivity"
   ]
  },
  {
   "cell_type": "code",
   "execution_count": 336,
   "metadata": {},
   "outputs": [],
   "source": [
    "iris = load_iris()\n",
    "X = iris['data']\n",
    "y = iris['target']\n",
    "names = iris['target_names']\n",
    "feature_names = iris['feature_names']\n",
    "\n",
    "X_3 = X[:,[0,2,3]]\n",
    "\n",
    "# Scale data to have mean 0 and variance 1 \n",
    "# which is importance for convergence of the neural network\n",
    "scaler = StandardScaler()\n",
    "X_scaled = scaler.fit_transform(X_3)\n",
    "#m = np.amax(X_scaled)\n",
    "#X_ball = X_scaled/m\n",
    "\n",
    "# Split the data set into training and testing\n",
    "X_train, X_test, y_train, y_test = train_test_split(\n",
    "    X_scaled, y, test_size=0.2, random_state=2)"
   ]
  },
  {
   "cell_type": "code",
   "execution_count": 337,
   "metadata": {},
   "outputs": [
    {
     "data": {
      "text/plain": [
       "Model(\n",
       "  (layer1): Linear(in_features=3, out_features=30, bias=True)\n",
       "  (layer3): Linear(in_features=30, out_features=3, bias=True)\n",
       ")"
      ]
     },
     "execution_count": 337,
     "metadata": {},
     "output_type": "execute_result"
    }
   ],
   "source": [
    "model_noninj     = Model(X_train.shape[1],l1)\n",
    "optimizer = torch.optim.Adam(model_noninj.parameters(), lr=0.01)\n",
    "loss_fn   = nn.CrossEntropyLoss()\n",
    "model_noninj"
   ]
  },
  {
   "cell_type": "code",
   "execution_count": 338,
   "metadata": {},
   "outputs": [
    {
     "name": "stderr",
     "output_type": "stream",
     "text": [
      "100%|██████████| 75/75 [00:00<00:00, 525.88it/s]\n"
     ]
    },
    {
     "data": {
      "text/plain": [
       "array([0.26666668, 0.73333335, 0.73333335, 0.73333335, 0.73333335,\n",
       "       0.73333335, 0.73333335, 0.73333335, 0.73333335, 0.73333335,\n",
       "       0.73333335, 0.73333335, 0.73333335, 0.73333335, 0.73333335,\n",
       "       0.73333335, 0.73333335, 0.76666665, 0.83333331, 0.83333331,\n",
       "       0.83333331, 0.83333331, 0.89999998, 0.89999998, 0.89999998,\n",
       "       0.93333334, 0.96666664, 0.96666664, 0.96666664, 0.96666664,\n",
       "       0.96666664, 0.96666664, 0.96666664, 0.96666664, 0.96666664,\n",
       "       0.96666664, 0.96666664, 0.96666664, 0.96666664, 0.96666664,\n",
       "       0.96666664, 0.96666664, 0.96666664, 0.96666664, 0.96666664,\n",
       "       0.96666664, 0.96666664, 0.96666664, 0.96666664, 0.96666664,\n",
       "       0.96666664, 0.96666664, 0.96666664, 0.96666664, 0.96666664,\n",
       "       0.96666664, 0.96666664, 0.96666664, 0.96666664, 0.96666664,\n",
       "       0.96666664, 0.96666664, 0.96666664, 0.96666664, 0.96666664,\n",
       "       0.96666664, 0.96666664, 0.96666664, 0.96666664, 0.96666664,\n",
       "       0.96666664, 0.96666664, 0.96666664, 0.96666664, 0.96666664])"
      ]
     },
     "execution_count": 338,
     "metadata": {},
     "output_type": "execute_result"
    }
   ],
   "source": [
    "# without injectivity\n",
    "#initialize lists\n",
    "\n",
    "\n",
    "weights = []\n",
    "weights_norm = []\n",
    "norms = []\n",
    "biases = np.zeros([EPOCHS + 1,l1])\n",
    "\n",
    "w1 = model_noninj.layer1.weight\n",
    "b1 = model_noninj.layer1.bias\n",
    "m1 = w1.shape[0]\n",
    "n1 = w1.shape[1]\n",
    "norm = w1.pow(2).sum(keepdim=True,dim=1).sqrt()\n",
    "w1_norm = torch.div(w1,norm)\n",
    "w1_norm[w1_norm == np.inf] = 0\n",
    "\n",
    "    \n",
    "weights.append(w1.detach().numpy())\n",
    "weights_norm.append(w1_norm.detach().numpy())\n",
    "norms.append(norm.detach().numpy())\n",
    "biases[0,:] = b1.detach().numpy()\n",
    "\n",
    "#epoch counter\n",
    "k = 1\n",
    "\n",
    "X_train = Variable(torch.from_numpy(X_train)).float()\n",
    "y_train = Variable(torch.from_numpy(y_train)).long()\n",
    "X_test  = Variable(torch.from_numpy(X_test)).float()\n",
    "y_test  = Variable(torch.from_numpy(y_test)).long()\n",
    "\n",
    "loss_list_noninj     = np.zeros((EPOCHS,))\n",
    "accuracy_list_noninj = np.zeros((EPOCHS,))\n",
    "\n",
    "for epoch in tqdm.trange(EPOCHS):\n",
    "    y_pred = model_noninj(X_train)\n",
    "    loss = loss_fn(y_pred, y_train)\n",
    "    loss_list_noninj[epoch] = loss.item()\n",
    "    \n",
    "    # Zero gradients\n",
    "    optimizer.zero_grad()\n",
    "    loss.backward()\n",
    "    optimizer.step()\n",
    "    \n",
    "    with torch.no_grad():\n",
    "        y_pred = model_noninj(X_test)\n",
    "        correct = (torch.argmax(y_pred, dim=1) == y_test).type(torch.FloatTensor)\n",
    "        accuracy_list_noninj[epoch] = correct.mean()\n",
    "    \n",
    "    \n",
    "    \n",
    "    w1 = model_noninj.layer1.weight\n",
    "    b1 = model_noninj.layer1.bias\n",
    "    norm = w1.pow(2).sum(keepdim=True,dim=1).sqrt()\n",
    "    w1_norm = torch.div(w1,norm)\n",
    "    w1_norm[w1_norm == np.inf] = 0\n",
    "    \n",
    "    \n",
    "    weights.append(w1.detach().numpy())\n",
    "    weights_norm.append(w1_norm.detach().numpy())\n",
    "    norms.append(norm.detach().numpy())\n",
    "    biases[k,:] = b1.detach().numpy()\n",
    "\n",
    "    \n",
    "\n",
    "\n",
    "    \n",
    "    k = k+1\n",
    "    \n",
    "\n",
    "accuracy_list_noninj"
   ]
  },
  {
   "cell_type": "markdown",
   "metadata": {},
   "source": [
    "### alway use mcbe"
   ]
  },
  {
   "cell_type": "code",
   "execution_count": 339,
   "metadata": {},
   "outputs": [],
   "source": [
    "iris = load_iris()\n",
    "X = iris['data']\n",
    "y = iris['target']\n",
    "names = iris['target_names']\n",
    "feature_names = iris['feature_names']\n",
    "\n",
    "X_3 = X[:,[0,2,3]]\n",
    "\n",
    "# Scale data to have mean 0 and variance 1 \n",
    "# which is importance for convergence of the neural network\n",
    "scaler = StandardScaler()\n",
    "X_scaled = scaler.fit_transform(X_3)\n",
    "#m = np.amax(X_scaled)\n",
    "#X_ball = X_scaled/m\n",
    "\n",
    "# Split the data set into training and testing\n",
    "X_train, X_test, y_train, y_test = train_test_split(\n",
    "    X_scaled, y, test_size=0.2, random_state=2)"
   ]
  },
  {
   "cell_type": "code",
   "execution_count": 340,
   "metadata": {},
   "outputs": [
    {
     "data": {
      "text/plain": [
       "Model(\n",
       "  (layer1): Linear(in_features=3, out_features=30, bias=True)\n",
       "  (layer3): Linear(in_features=30, out_features=3, bias=True)\n",
       ")"
      ]
     },
     "execution_count": 340,
     "metadata": {},
     "output_type": "execute_result"
    }
   ],
   "source": [
    "model_mcbe     = Model(X_train.shape[1],l1)\n",
    "optimizer = torch.optim.Adam(model_mcbe.parameters(), lr=0.01)\n",
    "loss_fn   = nn.CrossEntropyLoss()\n",
    "model_mcbe"
   ]
  },
  {
   "cell_type": "code",
   "execution_count": 341,
   "metadata": {},
   "outputs": [
    {
     "name": "stderr",
     "output_type": "stream",
     "text": [
      "100%|██████████| 75/75 [00:01<00:00, 43.44it/s]\n"
     ]
    },
    {
     "data": {
      "text/plain": [
       "array([0.16666667, 0.83333331, 0.73333335, 0.73333335, 0.73333335,\n",
       "       0.73333335, 0.73333335, 0.73333335, 0.73333335, 0.73333335,\n",
       "       0.73333335, 0.73333335, 0.73333335, 0.73333335, 0.73333335,\n",
       "       0.73333335, 0.73333335, 0.73333335, 0.73333335, 0.76666665,\n",
       "       0.76666665, 0.80000001, 0.83333331, 0.83333331, 0.83333331,\n",
       "       0.83333331, 0.83333331, 0.83333331, 0.83333331, 0.89999998,\n",
       "       0.89999998, 0.93333334, 0.93333334, 0.93333334, 0.96666664,\n",
       "       0.96666664, 0.96666664, 0.96666664, 0.96666664, 0.96666664,\n",
       "       0.96666664, 0.96666664, 0.96666664, 0.96666664, 0.96666664,\n",
       "       0.96666664, 0.96666664, 0.96666664, 0.96666664, 0.96666664,\n",
       "       0.96666664, 0.96666664, 0.96666664, 0.96666664, 0.96666664,\n",
       "       0.96666664, 0.96666664, 0.96666664, 0.96666664, 0.96666664,\n",
       "       0.96666664, 0.96666664, 0.96666664, 0.96666664, 0.96666664,\n",
       "       0.96666664, 0.96666664, 0.96666664, 0.96666664, 0.96666664,\n",
       "       0.96666664, 0.96666664, 0.96666664, 0.96666664, 0.96666664])"
      ]
     },
     "execution_count": 341,
     "metadata": {},
     "output_type": "execute_result"
    }
   ],
   "source": [
    "#initialize lists\n",
    "\n",
    "\n",
    "weights = []\n",
    "weights_norm = []\n",
    "norms = []\n",
    "biases = np.zeros([EPOCHS + 1,l1])\n",
    "\n",
    "w1 = model_mcbe.layer1.weight\n",
    "b1 = model_mcbe.layer1.bias\n",
    "m1 = w1.shape[0]\n",
    "n1 = w1.shape[1]\n",
    "norm = w1.pow(2).sum(keepdim=True,dim=1).sqrt()\n",
    "w1_norm = torch.div(w1,norm)\n",
    "w1_norm[w1_norm == np.inf] = 0\n",
    "\n",
    "    \n",
    "weights.append(w1.detach().numpy())\n",
    "weights_norm.append(w1_norm.detach().numpy())\n",
    "norms.append(norm.detach().numpy())\n",
    "biases[0,:] = b1.detach().numpy()\n",
    "\n",
    "#epoch counter\n",
    "k = 1\n",
    "\n",
    "X_train = Variable(torch.from_numpy(X_train)).float()\n",
    "y_train = Variable(torch.from_numpy(y_train)).long()\n",
    "X_test  = Variable(torch.from_numpy(X_test)).float()\n",
    "y_test  = Variable(torch.from_numpy(y_test)).long()\n",
    "\n",
    "loss_list_mcbe     = np.zeros((EPOCHS,))\n",
    "accuracy_list_mcbe = np.zeros((EPOCHS,))\n",
    "\n",
    "for epoch in tqdm.trange(EPOCHS):\n",
    "    y_pred = model_mcbe(X_train)\n",
    "    loss = loss_fn(y_pred, y_train)\n",
    "    loss_list_mcbe[epoch] = loss.item()\n",
    "    \n",
    "    # Zero gradients\n",
    "    optimizer.zero_grad()\n",
    "    loss.backward()\n",
    "    optimizer.step()\n",
    "    \n",
    "    with torch.no_grad():\n",
    "        y_pred = model_mcbe(X_test)\n",
    "        correct = (torch.argmax(y_pred, dim=1) == y_test).type(torch.FloatTensor)\n",
    "        accuracy_list_mcbe[epoch] = correct.mean()\n",
    "    \n",
    "    \n",
    "    \n",
    "    w1 = model_mcbe.layer1.weight\n",
    "    b1 = model_mcbe.layer1.bias\n",
    "    norm = w1.pow(2).sum(keepdim=True,dim=1).sqrt()\n",
    "    w1_norm = torch.div(w1,norm)\n",
    "    w1_norm[w1_norm == np.inf] = 0\n",
    "    \n",
    "    \n",
    "    weights.append(w1.detach().numpy())\n",
    "    weights_norm.append(w1_norm.detach().numpy())\n",
    "    norms.append(norm.detach().numpy())\n",
    "    biases[k,:] = b1.detach().numpy()\n",
    "\n",
    "    #make injectivity\n",
    "    est_alpha, subframes, est_points =mcbe.mcbe(polytope=np.array(weights)[-1],N=X_train.shape[0],distribution=\"ball\",radius = np.max(np.array(X_train)), give_subframes=True,sample_on_sphere=False)\n",
    "\n",
    "\n",
    "    \n",
    "    #use mcbe\n",
    "    biases[k,:] =  est_alpha\n",
    "\n",
    "\n",
    "\n",
    "\n",
    "    \n",
    "    k = k+1\n",
    "    \n",
    "\n",
    "accuracy_list_mcbe"
   ]
  },
  {
   "cell_type": "markdown",
   "metadata": {},
   "source": [
    "### compare results"
   ]
  },
  {
   "cell_type": "code",
   "execution_count": 342,
   "metadata": {},
   "outputs": [
    {
     "data": {
      "text/plain": [
       "Text(0.5, 1.0, 'Accuracy of the three models')"
      ]
     },
     "execution_count": 342,
     "metadata": {},
     "output_type": "execute_result"
    },
    {
     "data": {
      "image/png": "[encoded data removed]",
      "text/plain": [
       "<Figure size 640x480 with 1 Axes>"
      ]
     },
     "metadata": {},
     "output_type": "display_data"
    }
   ],
   "source": [
    "plt.plot(accuracy_list_inj, label = \"injective\")\n",
    "plt.plot(accuracy_list_noninj, label = \"non-injective\")\n",
    "plt.plot(accuracy_list_mcbe, label = \"mcbe\")\n",
    "plt.legend()\n",
    "plt.xlabel(\"Epoch\")\n",
    "plt.ylabel(\"Accuracy\")\n",
    "plt.title(\"Accuracy of the three models\")"
   ]
  },
  {
   "cell_type": "code",
   "execution_count": 343,
   "metadata": {},
   "outputs": [
    {
     "data": {
      "text/plain": [
       "Text(0.5, 1.0, 'Loss of the three models')"
      ]
     },
     "execution_count": 343,
     "metadata": {},
     "output_type": "execute_result"
    },
    {
     "data": {
      "image/png": "[encoded data removed]",
      "text/plain": [
       "<Figure size 640x480 with 1 Axes>"
      ]
     },
     "metadata": {},
     "output_type": "display_data"
    }
   ],
   "source": [
    "#plot losses\n",
    "plt.plot(loss_list_inj, label = \"injective\")\n",
    "plt.plot(loss_list_noninj, label = \"non-injective\")\n",
    "plt.plot(loss_list_mcbe, label = \"mcbe\")\n",
    "plt.legend()\n",
    "plt.xlabel(\"Epoch\")\n",
    "plt.ylabel(\"Loss\")\n",
    "plt.title(\"Loss of the three models\")"
   ]
  },
  {
   "cell_type": "code",
   "execution_count": null,
   "metadata": {},
   "outputs": [],
   "source": []
  }
 ],
 "metadata": {
  "kernelspec": {
   "display_name": "pbe",
   "language": "python",
   "name": "python3"
  },
  "language_info": {
   "codemirror_mode": {
    "name": "ipython",
    "version": 3
   },
   "file_extension": ".py",
   "mimetype": "text/x-python",
   "name": "python",
   "nbconvert_exporter": "python",
   "pygments_lexer": "ipython3",
   "version": "3.11.5"
  }
 },
 "nbformat": 4,
 "nbformat_minor": 2
}
