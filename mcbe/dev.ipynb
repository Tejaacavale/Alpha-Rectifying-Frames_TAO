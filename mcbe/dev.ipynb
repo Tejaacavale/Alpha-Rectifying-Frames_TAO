{
 "cells": [
  {
   "cell_type": "code",
   "execution_count": 1,
   "id": "ea18fc70",
   "metadata": {},
   "outputs": [],
   "source": [
    "import mcbe\n",
    "import numpy as np"
   ]
  },
  {
   "cell_type": "code",
   "execution_count": 2,
   "id": "8bcd06ba",
   "metadata": {},
   "outputs": [
    {
     "name": "stdout",
     "output_type": "stream",
     "text": [
      "Bias estimation converged after 2391 iterations\n",
      "alpha:  [ 0.03821229 -0.03810894 -0.10319646  0.0391699   0.40121487  0.25028693\n",
      " -0.10429539 -0.06733867  0.2475699   0.04600157 -0.01260842 -0.09529803]\n",
      "mean of alpha:  0.0501341290702679\n",
      "detected subframes:  {(6, 7, 9), (0, 4, 8), (5, 6, 8), (5, 6, 11), (5, 8, 11), (4, 5, 6), (4, 6, 7), (2, 7, 10), (1, 3, 9), (0, 2, 7), (5, 7, 9), (3, 8, 10), (1, 8, 11), (0, 2, 10), (1, 9, 10), (0, 4, 7), (0, 2, 4), (0, 4, 10), (0, 6, 7), (5, 6, 7), (2, 9, 10), (3, 5, 8), (1, 7, 9), (0, 3, 8), (7, 9, 11), (2, 7, 9), (4, 5, 8), (2, 6, 7), (1, 3, 8), (1, 2, 10), (1, 3, 11), (0, 4, 6), (1, 5, 11), (5, 9, 11), (0, 3, 4), (0, 3, 10), (4, 6, 8), (1, 2, 9), (3, 4, 8), (1, 3, 10), (1, 9, 11), (2, 3, 10), (3, 8, 11)}\n"
     ]
    }
   ],
   "source": [
    "# Random frame\n",
    "ran = mcbe.norm_row(np.random.randn(12,3))[0]\n",
    "alpha, subframes = mcbe.mcbe(ran,give_subframes=True)\n",
    "print(\"alpha: \", alpha)\n",
    "print(\"mean of alpha: \", np.mean(alpha))\n",
    "print(\"detected subframes: \", subframes)"
   ]
  },
  {
   "cell_type": "code",
   "execution_count": 4,
   "id": "486616d3",
   "metadata": {},
   "outputs": [
    {
     "name": "stdout",
     "output_type": "stream",
     "text": [
      "Bias estimation converged after 58049 iterations\n",
      "Approximation error:  0.015995189314505737\n"
     ]
    }
   ],
   "source": [
    "# Error analysis for the icosahedron, where the maximum bias is known to be phi/(1+phi**2)\n",
    "phi = (1+np.sqrt(5))/2\n",
    "ico = np.array([[0,1,phi],[0,1,-phi],[0,-1,phi],[0,-1,-phi],\n",
    "                [1,phi,0],[-1,phi,0],[1,-phi,0],[-1,-phi,0],\n",
    "                [phi,0,1],[phi,0,-1],[-phi,0,1],[-phi,0,-1]])/(np.sqrt(1+phi**2))\n",
    "\n",
    "alpha = mcbe.mcbe(ico, thres_range = 10000, thres = 0.00001)\n",
    "print('Approximation error: ', np.linalg.norm(alpha - phi/(1+phi**2)))"
   ]
  },
  {
   "cell_type": "code",
   "execution_count": null,
   "id": "4224ea5e",
   "metadata": {},
   "outputs": [],
   "source": []
  }
 ],
 "metadata": {
  "kernelspec": {
   "display_name": "alpharect",
   "language": "python",
   "name": "python3"
  },
  "language_info": {
   "codemirror_mode": {
    "name": "ipython",
    "version": 3
   },
   "file_extension": ".py",
   "mimetype": "text/x-python",
   "name": "python",
   "nbconvert_exporter": "python",
   "pygments_lexer": "ipython3",
   "version": "3.8.16"
  },
  "vscode": {
   "interpreter": {
    "hash": "69599b8b230edd595963a4c28761c9972651de0c85749bedb88c2c1597573974"
   }
  }
 },
 "nbformat": 4,
 "nbformat_minor": 5
}
