{
 "cells": [
  {
   "cell_type": "code",
   "execution_count": 2,
   "id": "9b8f7388",
   "metadata": {},
   "outputs": [],
   "source": [
    "import mcbe\n",
    "import numpy as np"
   ]
  },
  {
   "cell_type": "code",
   "execution_count": 4,
   "id": "68220bd5",
   "metadata": {},
   "outputs": [],
   "source": [
    "polytope = mcbe.get_points(\"sphere\",12,3,positive = True)"
   ]
  },
  {
   "cell_type": "code",
   "execution_count": 5,
   "id": "84c15164",
   "metadata": {},
   "outputs": [
    {
     "data": {
      "text/plain": [
       "array([-0.21594676,  0.07684828, -0.0795569 , -0.19464534,  0.62835344,\n",
       "       -0.52340165,  0.22967287, -0.38737898, -0.20201076,  0.89375785,\n",
       "        0.16773088, -0.4294253 ])"
      ]
     },
     "execution_count": 5,
     "metadata": {},
     "output_type": "execute_result"
    }
   ],
   "source": [
    "mcbe.mcbe(polytope,100,K_positive=True)"
   ]
  },
  {
   "cell_type": "code",
   "execution_count": null,
   "id": "557452b3",
   "metadata": {},
   "outputs": [],
   "source": []
  }
 ],
 "metadata": {
  "kernelspec": {
   "display_name": "Python 3 (ipykernel)",
   "language": "python",
   "name": "python3"
  },
  "language_info": {
   "codemirror_mode": {
    "name": "ipython",
    "version": 3
   },
   "file_extension": ".py",
   "mimetype": "text/x-python",
   "name": "python",
   "nbconvert_exporter": "python",
   "pygments_lexer": "ipython3",
   "version": "3.11.5"
  }
 },
 "nbformat": 4,
 "nbformat_minor": 5
}
