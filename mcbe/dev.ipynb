{
 "cells": [
  {
   "cell_type": "code",
   "execution_count": 12,
   "id": "efc47144",
   "metadata": {},
   "outputs": [],
   "source": [
    "import numpy as np\n",
    "import mcbe\n",
    "from tqdm import tqdm"
   ]
  },
  {
   "cell_type": "code",
   "execution_count": 2,
   "id": "797fdfa2",
   "metadata": {},
   "outputs": [],
   "source": [
    "phi = (1+np.sqrt(5))/2\n",
    "ico = np.array([[0,1,phi],[0,1,-phi],[0,-1,phi],[0,-1,-phi],\n",
    "                [1,phi,0],[-1,phi,0],[1,-phi,0],[-1,-phi,0],\n",
    "                [phi,0,1],[phi,0,-1],[-phi,0,1],[-phi,0,-1]])/(np.sqrt(1+phi**2))"
   ]
  },
  {
   "cell_type": "code",
   "execution_count": 3,
   "id": "06ec7fce",
   "metadata": {},
   "outputs": [
    {
     "name": "stderr",
     "output_type": "stream",
     "text": [
      "  0%|          | 0/1000 [00:00<?, ?it/s]C:\\Users\\heckert\\Documents\\GitHub\\Alpha-rectifying-frames\\mcbe\\mcbe.py:153: RuntimeWarning: invalid value encountered in subtract\n",
      "  diff_thres = np.linalg.norm(np.array(alphas[-thres_range])-np.array(alphas[-1]))\n",
      "C:\\Users\\heckert\\Documents\\GitHub\\Alpha-rectifying-frames\\mcbe\\mcbe.py:178: RuntimeWarning: invalid value encountered in subtract\n",
      "  diff_thres = np.linalg.norm(np.array(alphas[-thres_range])-np.array(alphas[-1]))\n",
      "100%|██████████| 1000/1000 [00:02<00:00, 349.16it/s]\n"
     ]
    },
    {
     "data": {
      "text/plain": [
       "0.786"
      ]
     },
     "execution_count": 3,
     "metadata": {},
     "output_type": "execute_result"
    }
   ],
   "source": [
    "mcbe.check_injectivity(3,12,1000,thres_range=1)"
   ]
  },
  {
   "cell_type": "code",
   "execution_count": 4,
   "id": "efcf7655",
   "metadata": {},
   "outputs": [
    {
     "name": "stderr",
     "output_type": "stream",
     "text": [
      "100%|██████████| 1000/1000 [00:03<00:00, 283.88it/s]\n"
     ]
    },
    {
     "data": {
      "text/plain": [
       "0.794"
      ]
     },
     "execution_count": 4,
     "metadata": {},
     "output_type": "execute_result"
    }
   ],
   "source": [
    "mcbe.check_injectivity(2,8,1000,thres_range=1)"
   ]
  },
  {
   "cell_type": "code",
   "execution_count": 5,
   "id": "7d4efd8f",
   "metadata": {},
   "outputs": [
    {
     "name": "stderr",
     "output_type": "stream",
     "text": [
      "100%|██████████| 1000/1000 [00:04<00:00, 239.40it/s]\n"
     ]
    },
    {
     "data": {
      "text/plain": [
       "0.784"
      ]
     },
     "execution_count": 5,
     "metadata": {},
     "output_type": "execute_result"
    }
   ],
   "source": [
    "mcbe.check_injectivity(4,16,1000,thres_range=1)"
   ]
  },
  {
   "cell_type": "code",
   "execution_count": 7,
   "id": "974f44cf",
   "metadata": {},
   "outputs": [
    {
     "name": "stderr",
     "output_type": "stream",
     "text": [
      "100%|██████████| 1000/1000 [00:16<00:00, 58.86it/s]\n"
     ]
    },
    {
     "data": {
      "text/plain": [
       "0.836"
      ]
     },
     "execution_count": 7,
     "metadata": {},
     "output_type": "execute_result"
    }
   ],
   "source": [
    "mcbe.check_injectivity(10,40,1000,thres_range=1)"
   ]
  },
  {
   "cell_type": "code",
   "execution_count": 9,
   "id": "174567dc",
   "metadata": {},
   "outputs": [
    {
     "name": "stderr",
     "output_type": "stream",
     "text": [
      "100%|██████████| 1000/1000 [05:51<00:00,  2.84it/s]\n"
     ]
    },
    {
     "data": {
      "text/plain": [
       "0.882"
      ]
     },
     "execution_count": 9,
     "metadata": {},
     "output_type": "execute_result"
    }
   ],
   "source": [
    "mcbe.check_injectivity(50,200,1000,thres_range=1)"
   ]
  },
  {
   "cell_type": "code",
   "execution_count": null,
   "id": "fd4994fe",
   "metadata": {},
   "outputs": [],
   "source": []
  },
  {
   "cell_type": "code",
   "execution_count": 13,
   "id": "725367fd",
   "metadata": {},
   "outputs": [],
   "source": [
    "m_max = 75\n",
    "b_inj = np.zeros((m_max,m_max))\n",
    "b_inj[:] = np.nan"
   ]
  },
  {
   "cell_type": "code",
   "execution_count": 17,
   "id": "80ae4c81",
   "metadata": {},
   "outputs": [
    {
     "name": "stderr",
     "output_type": "stream",
     "text": [
      "100%|██████████| 72/72 [19:09:40<00:00, 958.06s/it]      \n"
     ]
    }
   ],
   "source": [
    "m_range = range(3,m_max)\n",
    "\n",
    "for m in tqdm(m_range):\n",
    "    for n in range(2,m):\n",
    "    \n",
    "        W = mcbe.norm_row(np.random.randn(m,n))[0]\n",
    "        alpha =  mcbe.mcbe(W, thres_range=1000,quiet=True)  \n",
    "        \n",
    "        b_inj[n,m] = np.mean(np.array(alpha) >= 0)"
   ]
  },
  {
   "cell_type": "code",
   "execution_count": 18,
   "id": "015ad0b1",
   "metadata": {},
   "outputs": [
    {
     "ename": "NameError",
     "evalue": "name 'plt' is not defined",
     "output_type": "error",
     "traceback": [
      "\u001b[1;31m---------------------------------------------------------------------------\u001b[0m",
      "\u001b[1;31mNameError\u001b[0m                                 Traceback (most recent call last)",
      "Cell \u001b[1;32mIn[18], line 1\u001b[0m\n\u001b[1;32m----> 1\u001b[0m plt\u001b[38;5;241m.\u001b[39mimshow(b_inj\u001b[38;5;241m.\u001b[39mT)\n\u001b[0;32m      2\u001b[0m plt\u001b[38;5;241m.\u001b[39mxlabel(\u001b[38;5;124m\"\u001b[39m\u001b[38;5;124mn, number of columns\u001b[39m\u001b[38;5;124m\"\u001b[39m)\n\u001b[0;32m      3\u001b[0m plt\u001b[38;5;241m.\u001b[39mylabel(\u001b[38;5;124m\"\u001b[39m\u001b[38;5;124mm, number of rows\u001b[39m\u001b[38;5;124m\"\u001b[39m)\n",
      "\u001b[1;31mNameError\u001b[0m: name 'plt' is not defined"
     ]
    }
   ],
   "source": [
    "plt.imshow(b_inj.T)\n",
    "plt.xlabel(\"n, number of columns\")\n",
    "plt.ylabel(\"m, number of rows\")\n",
    "plt.colorbar()\n",
    "plt.ylim((0,m_max))\n",
    "plt.plot(range(m_max),[x*2 for x in range(int(m_max))])\n",
    "plt.plot(range(m_max),[x*3.4 for x in range(int(m_max))])\n",
    "plt.plot(range(m_max),[x*10.5 for x in range(int(m_max))])\n",
    "plt.legend([\"m=2n\",\"m=3.3n\",\"m=10.5n\"])\n",
    "plt.title(\"percent of alpha_i >= 0 with thres_range = 1000\")"
   ]
  },
  {
   "cell_type": "code",
   "execution_count": null,
   "id": "da4a024c",
   "metadata": {},
   "outputs": [],
   "source": []
  }
 ],
 "metadata": {
  "kernelspec": {
   "display_name": "Python 3 (ipykernel)",
   "language": "python",
   "name": "python3"
  },
  "language_info": {
   "codemirror_mode": {
    "name": "ipython",
    "version": 3
   },
   "file_extension": ".py",
   "mimetype": "text/x-python",
   "name": "python",
   "nbconvert_exporter": "python",
   "pygments_lexer": "ipython3",
   "version": "3.11.5"
  }
 },
 "nbformat": 4,
 "nbformat_minor": 5
}
