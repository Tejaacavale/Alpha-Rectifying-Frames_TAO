{
 "cells": [
  {
   "cell_type": "code",
   "execution_count": 1,
   "id": "ea18fc70",
   "metadata": {},
   "outputs": [],
   "source": [
    "import mcbe\n",
    "import numpy as np"
   ]
  },
  {
   "cell_type": "code",
   "execution_count": 2,
   "id": "8bcd06ba",
   "metadata": {},
   "outputs": [],
   "source": [
    "W = mcbe.norm_row(np.random.randn(12,3))[0]"
   ]
  },
  {
   "cell_type": "code",
   "execution_count": 3,
   "id": "f080ccb4",
   "metadata": {},
   "outputs": [
    {
     "name": "stdout",
     "output_type": "stream",
     "text": [
      "alpha converged after 1916 iterations\n"
     ]
    },
    {
     "data": {
      "text/plain": [
       "{(0, 2, 4),\n",
       " (0, 2, 9),\n",
       " (0, 2, 11),\n",
       " (0, 4, 9),\n",
       " (0, 5, 9),\n",
       " (0, 5, 11),\n",
       " (0, 6, 9),\n",
       " (0, 8, 9),\n",
       " (0, 9, 11),\n",
       " (1, 2, 3),\n",
       " (1, 3, 5),\n",
       " (1, 3, 7),\n",
       " (1, 3, 8),\n",
       " (1, 3, 10),\n",
       " (1, 3, 11),\n",
       " (1, 4, 8),\n",
       " (1, 5, 7),\n",
       " (1, 6, 7),\n",
       " (1, 7, 10),\n",
       " (1, 8, 10),\n",
       " (2, 3, 4),\n",
       " (2, 3, 11),\n",
       " (2, 4, 8),\n",
       " (2, 4, 9),\n",
       " (2, 4, 11),\n",
       " (2, 5, 11),\n",
       " (3, 4, 8),\n",
       " (3, 5, 7),\n",
       " (3, 5, 11),\n",
       " (4, 6, 8),\n",
       " (4, 8, 9),\n",
       " (4, 8, 10),\n",
       " (5, 6, 7),\n",
       " (5, 6, 9),\n",
       " (5, 7, 9),\n",
       " (5, 7, 11),\n",
       " (6, 7, 8),\n",
       " (6, 7, 9),\n",
       " (6, 7, 10),\n",
       " (6, 8, 9),\n",
       " (6, 8, 10)}"
      ]
     },
     "execution_count": 3,
     "metadata": {},
     "output_type": "execute_result"
    }
   ],
   "source": [
    "mcbe.mcbe(W,give_subframes=True)[2]"
   ]
  },
  {
   "cell_type": "code",
   "execution_count": null,
   "id": "1fd59c25",
   "metadata": {},
   "outputs": [],
   "source": []
  }
 ],
 "metadata": {
  "kernelspec": {
   "display_name": "Python 3 (ipykernel)",
   "language": "python",
   "name": "python3"
  },
  "language_info": {
   "codemirror_mode": {
    "name": "ipython",
    "version": 3
   },
   "file_extension": ".py",
   "mimetype": "text/x-python",
   "name": "python",
   "nbconvert_exporter": "python",
   "pygments_lexer": "ipython3",
   "version": "3.11.5"
  }
 },
 "nbformat": 4,
 "nbformat_minor": 5
}
