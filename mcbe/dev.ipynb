{
 "cells": [
  {
   "cell_type": "code",
   "execution_count": 1,
   "id": "b1df2587",
   "metadata": {},
   "outputs": [],
   "source": [
    "import numpy as np\n",
    "import mcbe"
   ]
  },
  {
   "cell_type": "code",
   "execution_count": 2,
   "id": "0daadb14",
   "metadata": {},
   "outputs": [],
   "source": [
    "phi = (1+np.sqrt(5))/2\n",
    "ico = np.array([[0,1,phi],[0,1,-phi],[0,-1,phi],[0,-1,-phi],\n",
    "                [1,phi,0],[-1,phi,0],[1,-phi,0],[-1,-phi,0],\n",
    "                [phi,0,1],[phi,0,-1],[-phi,0,1],[-phi,0,-1]])/(np.sqrt(1+phi**2))"
   ]
  },
  {
   "cell_type": "code",
   "execution_count": 6,
   "id": "6141e6dd",
   "metadata": {},
   "outputs": [
    {
     "name": "stdout",
     "output_type": "stream",
     "text": [
      "Bias estimation converged after 74602 iterations\n"
     ]
    },
    {
     "data": {
      "text/plain": [
       "(array([0.44863461, 0.44885703, 0.44825996, 0.45142537, 0.45276215,\n",
       "        0.44806897, 0.45019271, 0.4503496 , 0.44976507, 0.44757057,\n",
       "        0.44782932, 0.44911042]),)"
      ]
     },
     "execution_count": 6,
     "metadata": {},
     "output_type": "execute_result"
    }
   ],
   "source": [
    "mcbe.mcbe(ico,thres_range=10000, thres = 0)"
   ]
  },
  {
   "cell_type": "code",
   "execution_count": null,
   "id": "5addde76",
   "metadata": {},
   "outputs": [],
   "source": []
  }
 ],
 "metadata": {
  "kernelspec": {
   "display_name": "Python 3 (ipykernel)",
   "language": "python",
   "name": "python3"
  },
  "language_info": {
   "codemirror_mode": {
    "name": "ipython",
    "version": 3
   },
   "file_extension": ".py",
   "mimetype": "text/x-python",
   "name": "python",
   "nbconvert_exporter": "python",
   "pygments_lexer": "ipython3",
   "version": "3.11.5"
  }
 },
 "nbformat": 4,
 "nbformat_minor": 5
}
