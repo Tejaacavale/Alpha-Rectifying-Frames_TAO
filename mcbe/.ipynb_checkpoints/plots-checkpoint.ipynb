{
 "cells": [
  {
   "cell_type": "code",
   "execution_count": 1,
   "id": "15724cd8",
   "metadata": {},
   "outputs": [],
   "source": [
    "import numpy as np\n",
    "import mcbe\n",
    "from tqdm import tqdm\n",
    "import matplotlib.pyplot as plt\n",
    "import scipy"
   ]
  },
  {
   "cell_type": "code",
   "execution_count": 5,
   "id": "97ef8c04",
   "metadata": {},
   "outputs": [],
   "source": [
    "m_max = 75\n",
    "b_inj = np.zeros((m_max,m_max))\n",
    "b_inj[:] = np.nan\n",
    "epsilon = 0.5"
   ]
  },
  {
   "cell_type": "code",
   "execution_count": null,
   "id": "99004a5a",
   "metadata": {},
   "outputs": [
    {
     "name": "stderr",
     "output_type": "stream",
     "text": [
      " 11%|█         | 8/72 [06:33<1:47:40, 100.94s/it]"
     ]
    }
   ],
   "source": [
    "m_range = range(3,m_max)\n",
    "\n",
    "for m in tqdm(m_range):\n",
    "    for n in range(2,m):\n",
    "        \n",
    "        W = mcbe.get_points(distribution=\"ball\",num_points=m,d=n)\n",
    "        N = mcbe.solve_N_ball(n,epsilon)\n",
    "        alpha = mcbe.mcbe(W, N, distribution=\"ball\")\n",
    "        \n",
    "        b_inj[n,m] = np.mean(np.array(alpha) >= 0)"
   ]
  },
  {
   "cell_type": "code",
   "execution_count": null,
   "id": "c1c3d3be",
   "metadata": {},
   "outputs": [],
   "source": [
    "plt.imshow(b_inj.T)\n",
    "plt.xlabel(\"n, number of columns\")\n",
    "plt.ylabel(\"m, number of rows\")\n",
    "plt.colorbar()\n",
    "plt.ylim((0,m_max))\n",
    "plt.plot(range(m_max),[x*2 for x in range(int(m_max))])\n",
    "plt.plot(range(m_max),[x*3.4 for x in range(int(m_max))])\n",
    "plt.plot(range(m_max),[x*10.5 for x in range(int(m_max))])\n",
    "plt.legend([\"m=2n\",\"m=3.3n\",\"m=10.5n\"])\n",
    "plt.title(\"percent of alpha_i >= 0 with N given by epsilon=0.25\")"
   ]
  },
  {
   "cell_type": "code",
   "execution_count": null,
   "id": "17bfadd9",
   "metadata": {},
   "outputs": [],
   "source": []
  }
 ],
 "metadata": {
  "kernelspec": {
   "display_name": "Python 3 (ipykernel)",
   "language": "python",
   "name": "python3"
  },
  "language_info": {
   "codemirror_mode": {
    "name": "ipython",
    "version": 3
   },
   "file_extension": ".py",
   "mimetype": "text/x-python",
   "name": "python",
   "nbconvert_exporter": "python",
   "pygments_lexer": "ipython3",
   "version": "3.11.5"
  }
 },
 "nbformat": 4,
 "nbformat_minor": 5
}
