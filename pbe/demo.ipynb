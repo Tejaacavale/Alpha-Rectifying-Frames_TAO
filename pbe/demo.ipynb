{
 "cells": [
  {
   "cell_type": "markdown",
   "metadata": {},
   "source": [
    "This demo notebook shows how to use the routines in pbe.py to: \n",
    "- Given $W\\in \\mathbb{R}^{m\\times n}$, apply the polytope bias estimation (PBE) on $K=\\mathbb{S},\\mathbb{B}$ to obtain a bias $\\alpha^\\mathbb{K}$ such that $\\operatorname{ReLU}(W\\bullet -\\alpha^\\mathbb{K})$ is injective\n",
    "- Reconstruct $x$ from $y =\\operatorname{ReLU}(Wx-\\alpha^\\mathbb{K})$"
   ]
  },
  {
   "cell_type": "code",
   "execution_count": 3,
   "metadata": {},
   "outputs": [
    {
     "ename": "NameError",
     "evalue": "name '_C' is not defined",
     "output_type": "error",
     "traceback": [
      "\u001b[0;31m---------------------------------------------------------------------------\u001b[0m",
      "\u001b[0;31mNameError\u001b[0m                                 Traceback (most recent call last)",
      "Cell \u001b[0;32mIn[3], line 2\u001b[0m\n\u001b[1;32m      1\u001b[0m \u001b[39mimport\u001b[39;00m \u001b[39mnumpy\u001b[39;00m \u001b[39mas\u001b[39;00m \u001b[39mnp\u001b[39;00m\n\u001b[0;32m----> 2\u001b[0m \u001b[39mimport\u001b[39;00m \u001b[39mpbe\u001b[39;00m\n",
      "File \u001b[0;32m~/GitHub/Alpha-rectifying-frames/pbe/pbe.py:8\u001b[0m\n\u001b[1;32m      1\u001b[0m \u001b[39m# This file contains all functions to compute the PBE on the scaled sphere, the closed ball for a matrix W and do facet-specific reconstruction:\u001b[39;00m\n\u001b[1;32m      2\u001b[0m \u001b[39m# - row-wise normalization\u001b[39;00m\n\u001b[1;32m      3\u001b[0m \u001b[39m# - check for omnidirectionality\u001b[39;00m\n\u001b[1;32m      4\u001b[0m \u001b[39m# - compute alpha^S via convex optimization\u001b[39;00m\n\u001b[1;32m      5\u001b[0m \u001b[39m# - PBE\u001b[39;00m\n\u001b[1;32m      6\u001b[0m \u001b[39m# - facet-specific reconstruction \u001b[39;00m\n\u001b[0;32m----> 8\u001b[0m \u001b[39mimport\u001b[39;00m \u001b[39mtorch\u001b[39;00m\n\u001b[1;32m      9\u001b[0m \u001b[39mimport\u001b[39;00m \u001b[39mnumpy\u001b[39;00m \u001b[39mas\u001b[39;00m \u001b[39mnp\u001b[39;00m\n\u001b[1;32m     10\u001b[0m \u001b[39mimport\u001b[39;00m \u001b[39mcvxpy\u001b[39;00m \u001b[39mas\u001b[39;00m \u001b[39mcp\u001b[39;00m\n",
      "File \u001b[0;32m~/opt/anaconda3/envs/alpharect/lib/python3.8/site-packages/torch/__init__.py:457\u001b[0m\n\u001b[1;32m    443\u001b[0m         \u001b[39mraise\u001b[39;00m \u001b[39mImportError\u001b[39;00m(textwrap\u001b[39m.\u001b[39mdedent(\u001b[39m'''\u001b[39m\n\u001b[1;32m    444\u001b[0m \u001b[39m            Failed to load PyTorch C extensions:\u001b[39m\n\u001b[1;32m    445\u001b[0m \u001b[39m                It appears that PyTorch has loaded the `torch/_C` folder\u001b[39m\n\u001b[0;32m   (...)\u001b[0m\n\u001b[1;32m    453\u001b[0m \u001b[39m                or by running Python from a different directory.\u001b[39m\n\u001b[1;32m    454\u001b[0m \u001b[39m            \u001b[39m\u001b[39m'''\u001b[39m)\u001b[39m.\u001b[39mstrip()) \u001b[39mfrom\u001b[39;00m \u001b[39mNone\u001b[39m\n\u001b[1;32m    455\u001b[0m     \u001b[39mraise\u001b[39;00m  \u001b[39m# If __file__ is not None the cause is unknown, so just re-raise.\u001b[39;00m\n\u001b[0;32m--> 457\u001b[0m \u001b[39mfor\u001b[39;00m name \u001b[39min\u001b[39;00m \u001b[39mdir\u001b[39m(_C):\n\u001b[1;32m    458\u001b[0m     \u001b[39mif\u001b[39;00m name[\u001b[39m0\u001b[39m] \u001b[39m!=\u001b[39m \u001b[39m'\u001b[39m\u001b[39m_\u001b[39m\u001b[39m'\u001b[39m \u001b[39mand\u001b[39;00m \u001b[39mnot\u001b[39;00m name\u001b[39m.\u001b[39mendswith(\u001b[39m'\u001b[39m\u001b[39mBase\u001b[39m\u001b[39m'\u001b[39m):\n\u001b[1;32m    459\u001b[0m         __all__\u001b[39m.\u001b[39mappend(name)\n",
      "\u001b[0;31mNameError\u001b[0m: name '_C' is not defined"
     ]
    }
   ],
   "source": [
    "import numpy as np\n",
    "import pbe"
   ]
  },
  {
   "cell_type": "markdown",
   "metadata": {},
   "source": [
    "Examples: Icosahedron and random frame on the sphere"
   ]
  },
  {
   "cell_type": "code",
   "execution_count": 2,
   "metadata": {},
   "outputs": [],
   "source": [
    "phi = (1+np.sqrt(5))/2\n",
    "ico = np.array([[0,1,phi],[0,1,-phi],[0,-1,phi],[0,-1,-phi],\n",
    "                [1,phi,0],[-1,phi,0],[1,-phi,0],[-1,-phi,0],\n",
    "                [phi,0,1],[phi,0,-1],[-phi,0,1],[-phi,0,-1]])/(np.sqrt(1+phi**2))\n",
    "tet = np.array([[1,1,1],[-1,-1,1],[-1,1,-1],[1,-1,-1]])/np.sqrt(3)\n",
    "ran = pbe.norm_row(np.random.randn(12,3))[0]"
   ]
  },
  {
   "cell_type": "markdown",
   "metadata": {},
   "source": [
    "Compute the vertex-facet incidences"
   ]
  },
  {
   "cell_type": "code",
   "execution_count": 3,
   "metadata": {},
   "outputs": [],
   "source": [
    "ico_facets = pbe.facets(ico)\n",
    "ran_facets = pbe.facets(ran)"
   ]
  },
  {
   "cell_type": "markdown",
   "metadata": {},
   "source": [
    "PBE on $\\mathbb{B}$: get the upper bias $\\alpha^\\mathbb{B}$"
   ]
  },
  {
   "cell_type": "code",
   "execution_count": 4,
   "metadata": {},
   "outputs": [
    {
     "name": "stdout",
     "output_type": "stream",
     "text": [
      "alpha^B for the Icosahedron frame: [0.4472136 0.4472136 0.4472136 0.4472136 0.4472136 0.4472136 0.4472136\n",
      " 0.4472136 0.4472136 0.4472136 0.4472136 0.4472136]\n",
      "alpha^B for a random frame: [-0.11944526  0.          0.         -0.18599276 -0.2         0.\n",
      "  0.          0.          0.         -0.15528709  0.          0.        ]\n"
     ]
    }
   ],
   "source": [
    "alpha_ico = pbe.pbe(ico, ico_facets, K='sphere', radius=1)\n",
    "alpha_ran = pbe.pbe(ran, ran_facets, K='ball', radius=5)\n",
    "print('alpha^S for the Icosahedron frame:', alpha_ico)\n",
    "print('alpha^B for a random frame:', alpha_ran)"
   ]
  },
  {
   "cell_type": "markdown",
   "metadata": {},
   "source": [
    "Reconstruction of a random vector"
   ]
  },
  {
   "cell_type": "code",
   "execution_count": 5,
   "metadata": {},
   "outputs": [
    {
     "name": "stdout",
     "output_type": "stream",
     "text": [
      "Facet 3 with vertices [6, 7, 8] is used for reconstruction.\n",
      "Error: 3.634285013397775e-15\n"
     ]
    }
   ],
   "source": [
    "x = np.random.randn(3)\n",
    "x = x/np.linalg.norm(x)*5\n",
    "\n",
    "z = pbe.relu(x, ran, alpha_ran)\n",
    "x_hat = pbe.relu_inv(z, ran, alpha_ran, ran_facets)\n",
    "print('Error:', np.linalg.norm(x-x_hat))"
   ]
  },
  {
   "cell_type": "code",
   "execution_count": null,
   "metadata": {},
   "outputs": [],
   "source": []
  }
 ],
 "metadata": {
  "kernelspec": {
   "display_name": "Python 3 (ipykernel)",
   "language": "python",
   "name": "python3"
  },
  "language_info": {
   "codemirror_mode": {
    "name": "ipython",
    "version": 3
   },
   "file_extension": ".py",
   "mimetype": "text/x-python",
   "name": "python",
   "nbconvert_exporter": "python",
   "pygments_lexer": "ipython3",
   "version": "3.8.16"
  },
  "vscode": {
   "interpreter": {
    "hash": "69599b8b230edd595963a4c28761c9972651de0c85749bedb88c2c1597573974"
   }
  }
 },
 "nbformat": 4,
 "nbformat_minor": 2
}
