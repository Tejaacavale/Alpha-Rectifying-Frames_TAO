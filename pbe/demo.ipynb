{
 "cells": [
  {
   "attachments": {},
   "cell_type": "markdown",
   "metadata": {},
   "source": [
    "This demo notebook shows how to use the routines in pbe.py to: \n",
    "- Given $W\\in \\mathbb{R}^{m\\times n}$, apply the polytope bias estimation (PBE) on $K=\\mathbb{S},\\mathbb{B}$ to obtain a bias $\\alpha^\\mathbb{K}$ such that $\\operatorname{ReLU}(W\\bullet -\\alpha^\\mathbb{K})$ is injective\n",
    "- Reconstruct $x$ from $y =\\operatorname{ReLU}(Wx-\\alpha^\\mathbb{K})$"
   ]
  },
  {
   "cell_type": "code",
   "execution_count": 1,
   "metadata": {},
   "outputs": [],
   "source": [
    "import numpy as np\n",
    "import pbe"
   ]
  },
  {
   "attachments": {},
   "cell_type": "markdown",
   "metadata": {},
   "source": [
    "Examples: Icosahedron and random frame on the sphere"
   ]
  },
  {
   "cell_type": "code",
   "execution_count": 18,
   "metadata": {},
   "outputs": [],
   "source": [
    "phi = (1+np.sqrt(5))/2\n",
    "ico = np.array([[0,1,phi],[0,1,-phi],[0,-1,phi],[0,-1,-phi],\n",
    "                [1,phi,0],[-1,phi,0],[1,-phi,0],[-1,-phi,0],\n",
    "                [phi,0,1],[phi,0,-1],[-phi,0,1],[-phi,0,-1]])/(np.sqrt(1+phi**2))\n",
    "ran = pbe.norm_row(np.random.randn(12,3))[0]"
   ]
  },
  {
   "attachments": {},
   "cell_type": "markdown",
   "metadata": {},
   "source": [
    "Compute the vertex-facet incidences"
   ]
  },
  {
   "cell_type": "code",
   "execution_count": 19,
   "metadata": {},
   "outputs": [],
   "source": [
    "ico_facets = pbe.facets(ico)\n",
    "ran_facets = pbe.facets(ran)"
   ]
  },
  {
   "attachments": {},
   "cell_type": "markdown",
   "metadata": {},
   "source": [
    "PBE on $\\mathbb{B}$: get the upper bias $\\alpha^\\mathbb{B}$"
   ]
  },
  {
   "cell_type": "code",
   "execution_count": 21,
   "metadata": {},
   "outputs": [
    {
     "name": "stdout",
     "output_type": "stream",
     "text": [
      "alpha^B for the Icosahedron frame: [0.4472136 0.4472136 0.4472136 0.4472136 0.4472136 0.4472136 0.4472136\n",
      " 0.4472136 0.4472136 0.4472136 0.4472136 0.4472136]\n",
      "alpha^B for a random frame: [ 0.         -0.16350672 -0.16330583 -0.2        -0.17602459 -0.2\n",
      "  0.          0.         -0.19240028 -0.17435267  0.          0.        ]\n"
     ]
    }
   ],
   "source": [
    "alpha_ico = pbe.pbe(ico, ico_facets, K='sphere', radius=1)\n",
    "alpha_ran = pbe.pbe(ran, ran_facets, K='ball', radius=5)\n",
    "print('alpha^B for the Icosahedron frame:', alpha_ico)\n",
    "print('alpha^B for a random frame:', alpha_ran)"
   ]
  },
  {
   "attachments": {},
   "cell_type": "markdown",
   "metadata": {},
   "source": [
    "Reconstruction of a random vector"
   ]
  },
  {
   "cell_type": "code",
   "execution_count": 32,
   "metadata": {},
   "outputs": [
    {
     "name": "stdout",
     "output_type": "stream",
     "text": [
      "Facet 4 with vertices [10, 0, 4] is used for reconstruction.\n",
      "Error: 2.0471501066083613e-15\n"
     ]
    }
   ],
   "source": [
    "x = np.random.randn(3)\n",
    "x = x/np.linalg.norm(x)*5\n",
    "\n",
    "z = pbe.relu(x, ran, alpha_ran)\n",
    "x_hat = pbe.relu_inv(z, ran, alpha_ran, ran_facets)\n",
    "print('Error:', np.linalg.norm(x-x_hat))"
   ]
  },
  {
   "cell_type": "code",
   "execution_count": null,
   "metadata": {},
   "outputs": [],
   "source": []
  }
 ],
 "metadata": {
  "kernelspec": {
   "display_name": "alpharect",
   "language": "python",
   "name": "python3"
  },
  "language_info": {
   "codemirror_mode": {
    "name": "ipython",
    "version": 3
   },
   "file_extension": ".py",
   "mimetype": "text/x-python",
   "name": "python",
   "nbconvert_exporter": "python",
   "pygments_lexer": "ipython3",
   "version": "3.8.16"
  },
  "orig_nbformat": 4,
  "vscode": {
   "interpreter": {
    "hash": "69599b8b230edd595963a4c28761c9972651de0c85749bedb88c2c1597573974"
   }
  }
 },
 "nbformat": 4,
 "nbformat_minor": 2
}
