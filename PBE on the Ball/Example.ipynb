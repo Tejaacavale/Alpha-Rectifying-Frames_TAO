{
 "cells": [
  {
   "cell_type": "code",
   "execution_count": 1,
   "metadata": {},
   "outputs": [],
   "source": [
    "import numpy as np\n",
    "import pbe"
   ]
  },
  {
   "cell_type": "code",
   "execution_count": 2,
   "metadata": {},
   "outputs": [],
   "source": [
    "# examples: icosahedron and random frame on the sphere\n",
    "phi = (1+np.sqrt(5))/2\n",
    "ico = np.array([[0,1,phi],[0,1,-phi],[0,-1,phi],[0,-1,-phi],\n",
    "                [1,phi,0],[-1,phi,0],[1,-phi,0],[-1,-phi,0],\n",
    "                [phi,0,1],[phi,0,-1],[-phi,0,1],[-phi,0,-1]])/(np.sqrt(1+phi**2))\n",
    "ran = pbe.norm_row(np.random.randn(12,3))[0]"
   ]
  },
  {
   "cell_type": "code",
   "execution_count": 3,
   "metadata": {},
   "outputs": [],
   "source": [
    "# export in homogeneous coordiantes as .txt file\n",
    "pbe.hom(ico, filename=\"ico\")\n",
    "pbe.hom(ran, filename=\"ran\")"
   ]
  },
  {
   "cell_type": "code",
   "execution_count": 10,
   "metadata": {},
   "outputs": [
    {
     "name": "stdout",
     "output_type": "stream",
     "text": [
      "polymake: used package ppl\n",
      "  The Parma Polyhedra Library ([[wiki:external_software#PPL]]): A C++ library for convex polyhedra\n",
      "  and other numerical abstractions.\n",
      "  http://www.cs.unipr.it/ppl/\n",
      "\n",
      "polymake: used package ppl\n",
      "  The Parma Polyhedra Library ([[wiki:external_software#PPL]]): A C++ library for convex polyhedra\n",
      "  and other numerical abstractions.\n",
      "  http://www.cs.unipr.it/ppl/\n",
      "\n"
     ]
    }
   ],
   "source": [
    "# open polymake via bash and run the script \"vertex-facet.pl\" with argument \"/MyDir/ico\"\n",
    "# this will creat \"/MyDir/ico_facets.csv\" containing the vertex-facet incidences, i.e. the k-th row corresponds to the vertex indices of the k-th facet\n",
    "# !!! if vertex-facet incidences are computed in a loop it is recommended to do the loop inside the .pl script !!!\n",
    "!polymake --script \"vertex-facet.pl\" \"/MyDir/ico\"\n",
    "!polymake --script \"vertex-facet.pl\" \"/MyDir/ran\""
   ]
  },
  {
   "cell_type": "code",
   "execution_count": 5,
   "metadata": {},
   "outputs": [
    {
     "name": "stdout",
     "output_type": "stream",
     "text": [
      "alpha^B for the Icosahedron frame: [0. 0. 0. 0. 0. 0. 0. 0. 0. 0. 0. 0.]\n",
      "alpha^B for a random frame: [-0.2823 -0.2823  0.      0.      0.      0.      0.      0.     -0.1446\n",
      " -0.1446 -0.1446 -0.1446]\n"
     ]
    }
   ],
   "source": [
    "# PBE on the unit bal: estimte the upper bias alpha^B\n",
    "alpha_ico = pbe.pbe(ico, filename=\"/MyDir/ico_facets.csv\")\n",
    "alpha_ran = pbe.pbe(ran, filename=\"/MyDir/ran_facets.csv\")\n",
    "print('alpha^B for the Icosahedron frame:', alpha_ico)\n",
    "print('alpha^B for a random frame:', alpha_ran)"
   ]
  },
  {
   "cell_type": "code",
   "execution_count": 8,
   "metadata": {},
   "outputs": [
    {
     "name": "stdout",
     "output_type": "stream",
     "text": [
      "Facet 3 with vertices [0, 4, 8] is used for reconstruction.\n",
      "Error: 8.50064065311604e-16\n"
     ]
    }
   ],
   "source": [
    "# reconstruction of a random vector\n",
    "x = np.random.randn(3)\n",
    "x = x/np.linalg.norm(x)\n",
    "# output of the ReLU-layer\n",
    "z = pbe.relu(x, ran, alpha_ran)\n",
    "# recostruct x\n",
    "x_hat = pbe.relu_inv(z, ran, alpha_ran, \"/MyDir/ran_facets.csv\")\n",
    "print('Error:', np.linalg.norm(x-x_hat))"
   ]
  },
  {
   "cell_type": "code",
   "execution_count": null,
   "metadata": {},
   "outputs": [],
   "source": []
  }
 ],
 "metadata": {
  "kernelspec": {
   "display_name": "alpharect",
   "language": "python",
   "name": "python3"
  },
  "language_info": {
   "codemirror_mode": {
    "name": "ipython",
    "version": 3
   },
   "file_extension": ".py",
   "mimetype": "text/x-python",
   "name": "python",
   "nbconvert_exporter": "python",
   "pygments_lexer": "ipython3",
   "version": "3.8.16"
  },
  "orig_nbformat": 4,
  "vscode": {
   "interpreter": {
    "hash": "69599b8b230edd595963a4c28761c9972651de0c85749bedb88c2c1597573974"
   }
  }
 },
 "nbformat": 4,
 "nbformat_minor": 2
}
