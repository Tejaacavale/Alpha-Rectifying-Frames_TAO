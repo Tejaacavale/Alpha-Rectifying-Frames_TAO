{
 "cells": [
  {
   "cell_type": "code",
   "execution_count": 1,
   "metadata": {},
   "outputs": [],
   "source": [
    "import numpy as np\n",
    "import PBE_ball"
   ]
  },
  {
   "cell_type": "code",
   "execution_count": 2,
   "metadata": {},
   "outputs": [],
   "source": [
    "# icosahedron frame on the sphere\n",
    "phi = (1+np.sqrt(5))/2\n",
    "ico = np.array([[0,1,phi],[0,1,-phi],[0,-1,phi],[0,-1,-phi],\n",
    "                [1,phi,0],[-1,phi,0],[1,-phi,0],[-1,-phi,0],\n",
    "                [phi,0,1],[phi,0,-1],[-phi,0,1],[-phi,0,-1]])/(np.sqrt(1+phi**2))\n",
    "# random frame on the sphere\n",
    "ran = PBE_ball.norm(np.random.randn(10,3))[0]"
   ]
  },
  {
   "cell_type": "code",
   "execution_count": 9,
   "metadata": {},
   "outputs": [],
   "source": [
    "# filenames for exporting\n",
    "ico_filename = \"ico\"\n",
    "ran_filename = \"ran\"\n",
    "\n",
    "# save the arrays in homogeneous coordiantes\n",
    "PBE_ball.hom(ico, filename=ico_filename)\n",
    "PBE_ball.hom(ran, filename=ran_filename)"
   ]
  },
  {
   "cell_type": "code",
   "execution_count": 10,
   "metadata": {},
   "outputs": [
    {
     "name": "stdout",
     "output_type": "stream",
     "text": [
      "polymake: used package ppl\n",
      "  The Parma Polyhedra Library ([[wiki:external_software#PPL]]): A C++ library for convex polyhedra\n",
      "  and other numerical abstractions.\n",
      "  http://www.cs.unipr.it/ppl/\n",
      "\n",
      "polymake: used package ppl\n",
      "  The Parma Polyhedra Library ([[wiki:external_software#PPL]]): A C++ library for convex polyhedra\n",
      "  and other numerical abstractions.\n",
      "  http://www.cs.unipr.it/ppl/\n",
      "\n"
     ]
    }
   ],
   "source": [
    "# open polymake via bash and run the script \"vertex-facet.pl\" with argument \"ico\", setting the filenames (in and out)\n",
    "# !!! if more than one vertex-facet incidences are computed it is recommended to do the loop inside the script !!!\n",
    "!polymake --script \"vertex-facet.pl\" \"/Users/Dane/Documents/PhD/Projects Papers/Alpha Rectifying Frames/Alpha-rectifying-frames/PBE on the Ball/ico\"\n",
    "!polymake --script \"vertex-facet.pl\" \"/Users/Dane/Documents/PhD/Projects Papers/Alpha Rectifying Frames/Alpha-rectifying-frames/PBE on the Ball/ran\""
   ]
  },
  {
   "cell_type": "code",
   "execution_count": 12,
   "metadata": {},
   "outputs": [
    {
     "name": "stdout",
     "output_type": "stream",
     "text": [
      "alpha^B for the Icosahedron frame: [0. 0. 0. 0. 0. 0. 0. 0. 0. 0. 0. 0.]\n",
      "alpha^B for a random frame: [ 0.      0.     -0.4943 -0.4943  0.      0.     -0.2737 -0.2737  0.\n",
      "  0.    ]\n"
     ]
    }
   ],
   "source": [
    "# do the PBE on the unit ball\n",
    "alpha_ico = PBE_ball.pbe(ico, filename=ico_filename+\"_facets.csv\")\n",
    "alpha_ran = PBE_ball.pbe(ran, filename=ran_filename+\"_facets.csv\")\n",
    "print('alpha^B for the Icosahedron frame:', alpha_ico)\n",
    "print('alpha^B for a random frame:', alpha_ran)"
   ]
  },
  {
   "cell_type": "code",
   "execution_count": null,
   "metadata": {},
   "outputs": [],
   "source": []
  }
 ],
 "metadata": {
  "kernelspec": {
   "display_name": "alpharect",
   "language": "python",
   "name": "python3"
  },
  "language_info": {
   "codemirror_mode": {
    "name": "ipython",
    "version": 3
   },
   "file_extension": ".py",
   "mimetype": "text/x-python",
   "name": "python",
   "nbconvert_exporter": "python",
   "pygments_lexer": "ipython3",
   "version": "3.8.16"
  },
  "orig_nbformat": 4,
  "vscode": {
   "interpreter": {
    "hash": "69599b8b230edd595963a4c28761c9972651de0c85749bedb88c2c1597573974"
   }
  }
 },
 "nbformat": 4,
 "nbformat_minor": 2
}
