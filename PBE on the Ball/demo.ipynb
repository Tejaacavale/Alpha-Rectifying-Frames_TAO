{
 "cells": [
  {
   "attachments": {},
   "cell_type": "markdown",
   "metadata": {},
   "source": [
    "This demo notebook shows how to use the routines in pbe.py to: \n",
    "- export a matrix $W$ in homogeneous coordinates\n",
    "- launch the Polymake script \"vertex-facet.pl\" to compute the vertex-facet incidences for $W$\n",
    "- apply the polytope bias estimation (PBE) on the ball to obtain $\\alpha^\\mathbb{B}$\n",
    "- reconstruct $x$ from $\\operatorname{ReLU}(Wx-\\alpha^\\mathbb{B})$"
   ]
  },
  {
   "cell_type": "code",
   "execution_count": 1,
   "metadata": {},
   "outputs": [],
   "source": [
    "import numpy as np\n",
    "import pbe"
   ]
  },
  {
   "attachments": {},
   "cell_type": "markdown",
   "metadata": {},
   "source": [
    "Examples: Icosahedron and random frame on the sphere"
   ]
  },
  {
   "cell_type": "code",
   "execution_count": 2,
   "metadata": {},
   "outputs": [],
   "source": [
    "phi = (1+np.sqrt(5))/2\n",
    "ico = np.array([[0,1,phi],[0,1,-phi],[0,-1,phi],[0,-1,-phi],\n",
    "                [1,phi,0],[-1,phi,0],[1,-phi,0],[-1,-phi,0],\n",
    "                [phi,0,1],[phi,0,-1],[-phi,0,1],[-phi,0,-1]])/(np.sqrt(1+phi**2))\n",
    "ran = pbe.norm_row(np.random.randn(12,3))[0]"
   ]
  },
  {
   "attachments": {},
   "cell_type": "markdown",
   "metadata": {},
   "source": [
    "Export in homogeneous coordiantes as .txt file"
   ]
  },
  {
   "cell_type": "code",
   "execution_count": 3,
   "metadata": {},
   "outputs": [],
   "source": [
    "pbe.hom(ico, filename=\"ico\")\n",
    "pbe.hom(ran, filename=\"ran\")"
   ]
  },
  {
   "attachments": {},
   "cell_type": "markdown",
   "metadata": {},
   "source": [
    "Open polymake via bash and run the script \"vertex-facet.pl\" with argument \"/MyDir/ico\".\\\n",
    "This will create \"/MyDir/ico_facets.csv\" containing the vertex-facet incidences. Use pbe.read_facets(\"/MyDir/ico_facets.csv\") to get them explicitely in an array where the k-th row corresponds to the vertex-indices of the k-th facet.\\\n",
    "\\\n",
    "**!!! if vertex-facet incidences are computed in a loop it is recommended to do the loop inside the .pl script !!!**"
   ]
  },
  {
   "cell_type": "code",
   "execution_count": 10,
   "metadata": {},
   "outputs": [
    {
     "name": "stdout",
     "output_type": "stream",
     "text": [
      "polymake: used package ppl\n",
      "  The Parma Polyhedra Library ([[wiki:external_software#PPL]]): A C++ library for convex polyhedra\n",
      "  and other numerical abstractions.\n",
      "  http://www.cs.unipr.it/ppl/\n",
      "\n",
      "polymake: used package ppl\n",
      "  The Parma Polyhedra Library ([[wiki:external_software#PPL]]): A C++ library for convex polyhedra\n",
      "  and other numerical abstractions.\n",
      "  http://www.cs.unipr.it/ppl/\n",
      "\n"
     ]
    }
   ],
   "source": [
    "\n",
    "!polymake --script \"vertex-facet.pl\" \"/MyDir/ico\"\n",
    "!polymake --script \"vertex-facet.pl\" \"/MyDir/ran\""
   ]
  },
  {
   "attachments": {},
   "cell_type": "markdown",
   "metadata": {},
   "source": [
    "PBE on $\\mathbb{B}$: get the upper bias $\\alpha^\\mathbb{B}$"
   ]
  },
  {
   "cell_type": "code",
   "execution_count": 5,
   "metadata": {},
   "outputs": [
    {
     "name": "stdout",
     "output_type": "stream",
     "text": [
      "alpha^B for the Icosahedron frame: [0. 0. 0. 0. 0. 0. 0. 0. 0. 0. 0. 0.]\n",
      "alpha^B for a random frame: [-0.2823 -0.2823  0.      0.      0.      0.      0.      0.     -0.1446\n",
      " -0.1446 -0.1446 -0.1446]\n"
     ]
    }
   ],
   "source": [
    "alpha_ico = pbe.pbe(ico, filename=\"/MyDir/ico_facets.csv\", radius=1)\n",
    "alpha_ran = pbe.pbe(ran, filename=\"/MyDir/ran_facets.csv\", radius=1)\n",
    "print('alpha^B for the Icosahedron frame:', alpha_ico)\n",
    "print('alpha^B for a random frame:', alpha_ran)"
   ]
  },
  {
   "attachments": {},
   "cell_type": "markdown",
   "metadata": {},
   "source": [
    "Reconstruction of a random vector"
   ]
  },
  {
   "cell_type": "code",
   "execution_count": 8,
   "metadata": {},
   "outputs": [
    {
     "name": "stdout",
     "output_type": "stream",
     "text": [
      "Facet 3 with vertices [0, 4, 8] is used for reconstruction.\n",
      "Error: 8.50064065311604e-16\n"
     ]
    }
   ],
   "source": [
    "x = np.random.randn(3)\n",
    "x = x/np.linalg.norm(x)\n",
    "# output of the ReLU-layer\n",
    "z = pbe.relu(x, ran, alpha_ran)\n",
    "# recostruct x\n",
    "x_hat = pbe.relu_inv(z, ran, alpha_ran, \"/MyDir/ran_facets.csv\")\n",
    "print('Error:', np.linalg.norm(x-x_hat))"
   ]
  }
 ],
 "metadata": {
  "kernelspec": {
   "display_name": "alpharect",
   "language": "python",
   "name": "python3"
  },
  "language_info": {
   "codemirror_mode": {
    "name": "ipython",
    "version": 3
   },
   "file_extension": ".py",
   "mimetype": "text/x-python",
   "name": "python",
   "nbconvert_exporter": "python",
   "pygments_lexer": "ipython3",
   "version": "3.8.16"
  },
  "orig_nbformat": 4,
  "vscode": {
   "interpreter": {
    "hash": "69599b8b230edd595963a4c28761c9972651de0c85749bedb88c2c1597573974"
   }
  }
 },
 "nbformat": 4,
 "nbformat_minor": 2
}
